{
 "cells": [
  {
   "cell_type": "markdown",
   "metadata": {},
   "source": [
    "# physics of value"
   ]
  },
  {
   "cell_type": "markdown",
   "metadata": {},
   "source": [
    "mathematical concepts may be expressed as data structures"
   ]
  },
  {
   "cell_type": "markdown",
   "metadata": {},
   "source": [
    "observe how the common explanation of a <a href=\"http://en.wikipedia.org/wiki/Euclidean_vector\" target=\"_blank\">vector</a> may be tailored to produce an identical explanation for a record in a database:"
   ]
  },
  {
   "cell_type": "markdown",
   "metadata": {},
   "source": [
    "> A vector can be pictured as an arrow. Its magnitude is its length, and its direction is the direction the arrow points.[[1](https://en.wikipedia.org/wiki/Dot_product#Geometric_definition)]\n",
    "<img src=\"https://upload.wikimedia.org/wikipedia/commons/thumb/9/95/Vector_from_A_to_B.svg/1200px-Vector_from_A_to_B.svg.png\" width=\"150\" alt=\"arrow vector\" align=\"center\"/>"
   ]
  },
  {
   "cell_type": "markdown",
   "metadata": {},
   "source": [
    "> A vector can be pictured as a transaction record. Its magnitude is its value, and its direction is the username receiving the value.  \n",
    "\n",
    "||||\n",
    "|---|---|---|\n",
    "|John|Mary|5.00|"
   ]
  },
  {
   "cell_type": "markdown",
   "metadata": {},
   "source": [
    "replacing numerical coordinates with <a href=\"https://en.wikipedia.org/wiki/String_(computer_science)\" target=\"_blank\">strings</a> removes ordinal positioning on an axis, while preserving identity (e.g., \"Mary\" == \"Mary\"). however, string **recurrence** remains <a href=\"https://en.wikipedia.org/wiki/AND_gate\" target=\"_blank\">measurable</a>:\n",
    "\n",
    "||||\n",
    "|---|---|---|\n",
    "|John|Mary|5.00|\n",
    "|Mary|Isaac|3.25|\n",
    "\n",
    "> 1. \"Mary\" account recurred 1*1=1 (once)"
   ]
  },
  {
   "cell_type": "markdown",
   "metadata": {},
   "source": [
    "now, add <a href=\"https://en.wikipedia.org/wiki/Signedness\" target=\"_blank\">signs</a> to strings by dividing their recurrence across 2 <a href=\"https://en.wikipedia.org/wiki/Conformal_geometric_algebra#Base_and_representation_spaces\" target=\"_blank\">positive and negative dimensions</a> extending a 3d space, and add \"buyer\" (-) and \"seller\"(+) labels to the new dimensions, establishing [value, -\"buyer\"] ∧ [value, +\"seller\"] = 0:\n",
    "\n",
    "|buyer|seller|value|\n",
    "|---|---|---|\n",
    "|John|Mary|5.00|\n",
    "|Mary|Isaac|3.25|\n",
    "\n",
    "> 1. \"Mary\" account occurred once as a \"seller\" (+)  \n",
    "> 2. \"Mary\" account occurred once as a \"buyer\" (-)  "
   ]
  },
  {
   "cell_type": "markdown",
   "metadata": {},
   "source": [
    "orienting strings between positive and negative directions and <a href=\"https://en.wikipedia.org/wiki/Scaling_(geometry)\" target=\"_blank\">scaling</a> per their signed recurrence restores <a href=\"https://en.wikipedia.org/wiki/Metric_(mathematics)\" target=\"_blank\">distance</a>. <a href=\"https://en.wikipedia.org/wiki/Homogeneous_coordinates\" target=\"_blank\">parameterizing</a> the signed string's recurrence by <a href=\"https://en.wikipedia.org/wiki/Ordinal_number\" target=\"_blank\">time</a> extends a <a href=\"https://en.wikipedia.org/wiki/Conservation_law\" target=\"_blank\">conservation law</a> to economic events:\n",
    "\n",
    "|buyer|seller|value|time|\n",
    "|---|---|---|---|\n",
    "|John|Mary|5.00|2016-11-23T20:18:35.253Z|\n",
    "|Mary|Isaac|3.25|2016-11-22T20:12:01.003Z|\n",
    "\n",
    "> 1. \"Mary\" account balance changed +1.75 after earning 5.00, then spending 3.25  \n",
    "> 2. \"Mary\" account not capable of spending 5.00 if previous earning less than 5.00  "
   ]
  },
  {
   "cell_type": "markdown",
   "metadata": {},
   "source": [
    "finally, expressing mathematical objects through data structures eliminates the learning curve to mathematical physics. embedding \"a change in ownership of 3d value with respect to time\" in the data empowers its consumer to articulate the <a href=\"https://en.wikipedia.org/wiki/Charge_conservation\" target=\"_blank\">behavior</a> and <a href=\"https://en.wikipedia.org/wiki/Asset_pricing\" target=\"_blank\">influence</a> of a currency in an *information-conserving*, *free* market without studying the <a href=\"https://en.wikipedia.org/wiki/Binary_logarithm#Information_theory\" target=\"_blank\">recurring event</a> structure between debitors and creditors across time, the <a href=\"https://en.wikipedia.org/wiki/Clifford_algebra#Basis_and_dimension\" target=\"_blank\"> 2^n dimensional space</a> it creates in the data model, or the square root of the <a href=\"https://en.wikipedia.org/wiki/Imaginary_unit\" target=\"_blank\">quadratic form</a> sealing certainty between <a href=\"https://en.wikipedia.org/wiki/Information_content#Additivity_of_independent_events\" target=\"_blank\">independent events</a>:\n",
    "\n",
    "\\begin{equation}\n",
    "i \\equiv {\\begin{bmatrix}0&-1\\\\1&0\\end{bmatrix}} \\times \\text{\"Mary\"} = {\\begin{bmatrix}0&-\\text{Mary}\\\\\\text{Mary}&0\\end{bmatrix}},\n",
    "\\end{equation}\n",
    "\n",
    "|buyer|seller|value|time|item|\n",
    "|---|---|---|---|---|\n",
    "|John|Mary|5.00|2016-11-23T20:18:35.253Z|bread|\n",
    "|Mary|Isaac|3.25|2016-11-22T20:12:01.003Z|milk|  \n",
    "\n",
    "> 1. <b>recurring</b> \"Mary\" account <a href=\"https://en.wikipedia.org/wiki/Point_reflection\" target=\"_blank\">reflected</a> across time axis with sign change  \n",
    "> 2. \"bread\" moved in opposite direction of \"Mary\" account when balance changed -5.00, or *sold bread*  \n",
    "> 3. \"milk\" moved in \"Mary\" account direction when balance changed -3.25, or *bought milk*  "
   ]
  },
  {
   "cell_type": "markdown",
   "metadata": {},
   "source": [
    "## [continuity](https://en.wikipedia.org/wiki/Continuity_equation) as an abstract data type"
   ]
  },
  {
   "cell_type": "markdown",
   "metadata": {},
   "source": [
    "let t = time (e.g. seconds)  \n",
    "let a(t) = value measured by seller @t  \n",
    "let b(t) = value measured by buyer @t  \n",
    "let w = value/transaction, where the difference in value measured between buyers and sellers in a transaction @t = a(t) - b(t) = 0  \n",
    "let u = transactions/t"
   ]
  },
  {
   "cell_type": "markdown",
   "metadata": {},
   "source": [
    "<img width=\"350\" alt=\"systemaccounting\" align=\"center\" src=\"https://user-images.githubusercontent.com/12200465/37568924-06f05d08-2a99-11e8-8891-60f373b33421.png\">"
   ]
  },
  {
   "cell_type": "markdown",
   "metadata": {},
   "source": [
    "*total value flowing within a system @ time t, the computability and accessibility of which establishes the conditions circumscribed by combinatorial game theory*"
   ]
  }
 ],
 "metadata": {
  "kernelspec": {
   "display_name": "Python 3",
   "language": "python",
   "name": "python3"
  },
  "language_info": {
   "codemirror_mode": {
    "name": "ipython",
    "version": 3
   },
   "file_extension": ".py",
   "mimetype": "text/x-python",
   "name": "python",
   "nbconvert_exporter": "python",
   "pygments_lexer": "ipython3",
   "version": "3.8.8"
  }
 },
 "nbformat": 4,
 "nbformat_minor": 4
}