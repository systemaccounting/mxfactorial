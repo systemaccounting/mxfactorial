{
 "cells": [
  {
   "cell_type": "markdown",
   "metadata": {},
   "source": [
    "# physics of value"
   ]
  },
  {
   "cell_type": "markdown",
   "metadata": {},
   "source": [
    "mathematical concepts may be expressed in terms of data structures"
   ]
  },
  {
   "cell_type": "markdown",
   "metadata": {},
   "source": [
    "observe how the common explanation of a [vector](http://en.wikipedia.org/wiki/Euclidean_vector) may be tailored to produce an identical explanation for a record in a database:"
   ]
  },
  {
   "cell_type": "markdown",
   "metadata": {},
   "source": [
    "> 1. A vector can be pictured as an arrow. Its magnitude is its length, and its direction is the direction the arrow points.[[1](https://en.wikipedia.org/wiki/Dot_product#Geometric_definition)]\n",
    "<img src=\"https://upload.wikimedia.org/wikipedia/commons/thumb/9/95/Vector_from_A_to_B.svg/1200px-Vector_from_A_to_B.svg.png\" width=\"150\" alt=\"arrow vector\" align=\"center\"/>"
   ]
  },
  {
   "cell_type": "markdown",
   "metadata": {},
   "source": [
    "> 2. A vector can be pictured as a transaction record. Its magnitude is its price, and its direction is the username receiving the value.  \n",
    "\n",
    "||||\n",
    "|---|---|---|\n",
    "|john|mary|5.00|"
   ]
  },
  {
   "cell_type": "markdown",
   "metadata": {},
   "source": [
    "replacing numerical coordinates with [strings](https://en.wikipedia.org/wiki/String_(computer_science)) sets them adrift [from the axis](https://en.wikipedia.org/wiki/Additive_inverse). however, occurrence remains [measurable](https://en.wikipedia.org/wiki/AND_gate):\n",
    "\n",
    "||||\n",
    "|---|---|---|\n",
    "|john|mary|5.00|\n",
    "|mary|joseph|5.00|\n",
    "\n",
    "> \"mary\" account occurred 1+1=2 (twice)"
   ]
  },
  {
   "cell_type": "markdown",
   "metadata": {},
   "source": [
    "now, add [signs](https://en.wikipedia.org/wiki/Signedness) to strings by dividing string occurrence across 2 new [positive and negative dimensions](https://en.wikipedia.org/wiki/Conformal_geometric_algebra#Base_and_representation_spaces) labelled \"seller\" and \"buyer\":\n",
    "\n",
    "|seller|buyer|price|\n",
    "|---|---|---|\n",
    "|john|mary|5.00|\n",
    "|mary|joseph|5.00|\n",
    "\n",
    "> \"mary\" account occurred once as a seller (+)  \n",
    "> \"mary\" account occurred once as a buyer (-)"
   ]
  },
  {
   "cell_type": "markdown",
   "metadata": {},
   "source": [
    "[orienting](https://en.wikipedia.org/wiki/Exterior_algebra) strings between positive and negative directions and <a href=\"https://en.wikipedia.org/wiki/Scaling_(geometry)\">scaling</a> per their signed occurrence restores <a href=\"https://en.wikipedia.org/wiki/Metric_(mathematics)\">distance</a>. [parameterizing](https://en.wikipedia.org/wiki/Homogeneous_coordinates) the signed string's occurrence by [time](https://en.wikipedia.org/wiki/Ordinal_number) enables the extension of a [conservation law](https://en.wikipedia.org/wiki/Conservation_law) to economic events:\n",
    "\n",
    "|seller|buyer|price|time|\n",
    "|---|---|---|---|\n",
    "|john|mary|5.00|2016-11-23T20:18:35.253Z|\n",
    "|mary|joseph|5.00|2016-11-22T20:12:01.003Z|\n",
    "\n",
    "> \"mary\" account balance unchanged by first earning (+5.00), then spending (-5.00)  \n",
    "> \"mary\" account not capable of spending (-5.00) if previous earning less than (+5.00)"
   ]
  },
  {
   "cell_type": "markdown",
   "metadata": {},
   "source": [
    "finally, expressing mathematical objects through data structures eliminates the learning curve to mathematical physics. embedding the measure for \"a change in ownership of value with respect to time\" within the data's structure empowers its consumer to recognize and articulate the [behavior](https://en.wikipedia.org/wiki/Charge_conservation)  of a currency, and its [influence](https://en.wikipedia.org/wiki/Asset_pricing) on resources:\n",
    "\n",
    "|seller|buyer|price|time|item|\n",
    "|---|---|---|---|---|\n",
    "|john|mary|5.00|2016-11-23T20:18:35.253Z|bread|\n",
    "|mary|joseph|5.00|2016-11-22T20:12:01.003Z|paper|\n",
    "\n",
    "> \"paper\" flowed in opposite direction from \"mary\" account when balance changed +5.00  \n",
    "> \"bread\" flowed in direction of \"mary\" account when balance changed -5.00"
   ]
  },
  {
   "cell_type": "markdown",
   "metadata": {},
   "source": [
    "## [continuity](https://en.wikipedia.org/wiki/Continuity_equation) as an abstract data type formalized"
   ]
  },
  {
   "cell_type": "markdown",
   "metadata": {},
   "source": [
    "let t = time (e.g. seconds)  \n",
    "let a(t) = value measured by seller @t  \n",
    "let b(t) = value measured by buyer @t  \n",
    "let w = value/transaction, where the difference in value measured between buyers and sellers in a transaction @t = a(t) - b(t) = 0  \n",
    "let u = transactions/t"
   ]
  },
  {
   "cell_type": "markdown",
   "metadata": {},
   "source": [
    "<img width=\"350\" alt=\"systemaccounting\" align=\"center\" src=\"https://user-images.githubusercontent.com/12200465/37568924-06f05d08-2a99-11e8-8891-60f373b33421.png\">"
   ]
  },
  {
   "cell_type": "markdown",
   "metadata": {},
   "source": [
    "*total value flowing within a system @ time t, the computability and accessibility of which establishes the conditions circumscribed by combinatorial game theory*"
   ]
  }
 ],
 "metadata": {
  "kernelspec": {
   "display_name": "Python 3",
   "language": "python",
   "name": "python3"
  },
  "language_info": {
   "codemirror_mode": {
    "name": "ipython",
    "version": 3
   },
   "file_extension": ".py",
   "mimetype": "text/x-python",
   "name": "python",
   "nbconvert_exporter": "python",
   "pygments_lexer": "ipython3",
   "version": "3.7.3"
  }
 },
 "nbformat": 4,
 "nbformat_minor": 4
}
